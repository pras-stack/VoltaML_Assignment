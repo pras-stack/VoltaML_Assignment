{
  "nbformat": 4,
  "nbformat_minor": 0,
  "metadata": {
    "colab": {
      "provenance": []
    },
    "kernelspec": {
      "name": "python3",
      "display_name": "Python 3"
    },
    "language_info": {
      "name": "python"
    },
    "accelerator": "GPU",
    "gpuClass": "standard"
  },
  "cells": [
    {
      "cell_type": "code",
      "execution_count": 1,
      "metadata": {
        "id": "NMwjsbYiDPx4"
      },
      "outputs": [],
      "source": [
        "import tensorflow as tf\n",
        "import numpy as np # linear algebra\n",
        "import pandas as pd # data processing, CSV file I/O (e.g. pd.read_csv)\n",
        "import matplotlib.pyplot as plt\n",
        "import seaborn as sns\n",
        "import os\n",
        "from PIL import Image\n",
        "import seaborn as sns\n",
        "import cv2\n",
        "from tensorflow.keras.utils import plot_model\n",
        "import matplotlib.pyplot as plt\n",
        "from sklearn import preprocessing\n",
        "from sklearn.model_selection import train_test_split\n",
        "import xml.etree.ElementTree as ET\n",
        "from tensorflow.keras.layers import Dense, Activation,Dropout,Conv2D, MaxPooling2D,BatchNormalization,Flatten\n",
        "from tensorflow.keras.optimizers import Adam, Adamax\n",
        "from tensorflow.keras.metrics import categorical_crossentropy\n",
        "from tensorflow.keras import regularizers\n",
        "from tensorflow.keras.models import Model"
      ]
    },
    {
      "cell_type": "code",
      "source": [
        "from google.colab import drive\n",
        "drive.mount('/content/drive')"
      ],
      "metadata": {
        "colab": {
          "base_uri": "https://localhost:8080/"
        },
        "id": "XpG2T0huUrZO",
        "outputId": "0736c9d4-4a6a-45ab-f9f7-d275eb13415c"
      },
      "execution_count": 2,
      "outputs": [
        {
          "output_type": "stream",
          "name": "stdout",
          "text": [
            "Drive already mounted at /content/drive; to attempt to forcibly remount, call drive.mount(\"/content/drive\", force_remount=True).\n"
          ]
        }
      ]
    },
    {
      "cell_type": "code",
      "source": [
        "pip install -r requirements.txt"
      ],
      "metadata": {
        "id": "4Gwtvv1DagSr"
      },
      "execution_count": null,
      "outputs": []
    },
    {
      "cell_type": "code",
      "source": [
        "# Let's create paths\n",
        "# Loading all the images from the directory \n",
        "img_path = []\n",
        "anno_path = []\n",
        "dir = '/content/drive/MyDrive/ML Club NITS/Datasets/FaceMask_Dataset'\n",
        "for dirname, _, filenames in os.walk(dir):\n",
        "    for filename in filenames:\n",
        "        file_path = os.path.join(dirname, filename)\n",
        "        if file_path[-3:] == 'xml':\n",
        "            anno_path.append(file_path)\n",
        "        else:\n",
        "            img_path.append(file_path)\n",
        "            \n",
        "print(\"We load all images\" if len(img_path) == 853 else \"Oops...\")"
      ],
      "metadata": {
        "colab": {
          "base_uri": "https://localhost:8080/"
        },
        "id": "b1MatR6rDdsp",
        "outputId": "47cbf96e-874a-4b35-880f-a437f6f798c4"
      },
      "execution_count": 2,
      "outputs": [
        {
          "output_type": "stream",
          "name": "stdout",
          "text": [
            "We load all images\n"
          ]
        }
      ]
    },
    {
      "cell_type": "code",
      "source": [
        "#Creating Dataframes\n",
        "df = pd.DataFrame(columns=['file_name', 'label', 'xmin', 'ymin', 'xmax', 'ymax'])\n",
        "#parsing the annotations\n",
        "for xml_file in anno_path:\n",
        "    tree = ET.parse(xml_file)\n",
        "    root = tree.getroot()\n",
        "    file_name = root.find('filename').text\n",
        "#   foreach object\n",
        "    for obj in root.findall('object'):\n",
        "        row = {\n",
        "            'file_name': file_name,\n",
        "            'label': obj.find('name').text,\n",
        "            'xmin': int(obj.find('bndbox').find('xmin').text),\n",
        "            'ymin': int(obj.find('bndbox').find('ymin').text),\n",
        "            'xmax': int(obj.find('bndbox').find('xmax').text),\n",
        "            'ymax': int(obj.find('bndbox').find('ymax').text)\n",
        "        }\n",
        "        df = df.append(row, ignore_index=True)"
      ],
      "metadata": {
        "id": "X0XNCyh1EUTy"
      },
      "execution_count": 3,
      "outputs": []
    },
    {
      "cell_type": "code",
      "source": [
        "df.label.value_counts()"
      ],
      "metadata": {
        "colab": {
          "base_uri": "https://localhost:8080/"
        },
        "id": "X36JKcjHE8dd",
        "outputId": "101a2093-706f-42d1-f494-e258c0d2e050"
      },
      "execution_count": 4,
      "outputs": [
        {
          "output_type": "execute_result",
          "data": {
            "text/plain": [
              "with_mask                3232\n",
              "without_mask              717\n",
              "mask_weared_incorrect     123\n",
              "Name: label, dtype: int64"
            ]
          },
          "metadata": {},
          "execution_count": 4
        }
      ]
    },
    {
      "cell_type": "code",
      "source": [
        "sns.countplot(x=df.label)"
      ],
      "metadata": {
        "colab": {
          "base_uri": "https://localhost:8080/",
          "height": 297
        },
        "id": "_tJgDX0uFSUc",
        "outputId": "fabcb630-7d87-46bc-95dd-6dc9488165dc"
      },
      "execution_count": 5,
      "outputs": [
        {
          "output_type": "execute_result",
          "data": {
            "text/plain": [
              "<matplotlib.axes._subplots.AxesSubplot at 0x7fec95a0c880>"
            ]
          },
          "metadata": {},
          "execution_count": 5
        },
        {
          "output_type": "display_data",
          "data": {
            "text/plain": [
              "<Figure size 432x288 with 1 Axes>"
            ],
            "image/png": "[encoded data removed]"
          },
          "metadata": {
            "needs_background": "light"
          }
        }
      ]
    },
    {
      "cell_type": "code",
      "source": [
        "img_dir = '/content/drive/MyDrive/ML Club NITS/Datasets/FaceMask_Dataset/images/'\n",
        "def crop_image(file, xmin, ymin, xmax, ymax, is_im_arr=False):\n",
        "    if is_im_arr is False:\n",
        "        im = Image.open(img_dir + file)\n",
        "        im_arr = np.array(im)\n",
        "    else:\n",
        "        im_arr = np.array(file)\n",
        "    # cropping\n",
        "    im_cropped = im_arr[ymin:ymax, xmin:xmax, :3]\n",
        "    return im_cropped"
      ],
      "metadata": {
        "id": "Vawn73NfFXPn"
      },
      "execution_count": 6,
      "outputs": []
    },
    {
      "cell_type": "code",
      "source": [
        "row = df.iloc[169]\n",
        "crop_img = crop_image(row.file_name, row.xmin, row.ymin, row.xmax, row.ymax)\n",
        "# plot image cropped\n",
        "plt.figure(figsize=(2,2))\n",
        "plt.imshow(crop_img)\n",
        "plt.show()"
      ],
      "metadata": {
        "colab": {
          "base_uri": "https://localhost:8080/",
          "height": 131
        },
        "id": "cIRexGdDQxIo",
        "outputId": "accf681c-b20a-488b-f641-0e9488d63268"
      },
      "execution_count": 7,
      "outputs": [
        {
          "output_type": "display_data",
          "data": {
            "text/plain": [
              "<Figure size 144x144 with 1 Axes>"
            ],
            "image/png": "[encoded data removed]"
          },
          "metadata": {
            "needs_background": "light"
          }
        }
      ]
    },
    {
      "cell_type": "code",
      "source": [
        "plt.imshow(cv2.resize(crop_img, (224, 224)))\n",
        "plt.title(\"Image resized !\")\n",
        "plt.show()"
      ],
      "metadata": {
        "colab": {
          "base_uri": "https://localhost:8080/",
          "height": 281
        },
        "id": "h0By2zKjQ9mA",
        "outputId": "80369f75-1a89-404f-cd86-b80e0908e9d6"
      },
      "execution_count": 8,
      "outputs": [
        {
          "output_type": "display_data",
          "data": {
            "text/plain": [
              "<Figure size 432x288 with 1 Axes>"
            ],
            "image/png": "[encoded data removed]"
          },
          "metadata": {
            "needs_background": "light"
          }
        }
      ]
    },
    {
      "cell_type": "code",
      "source": [
        "#Creating dataset to iterate file_path to cropped images\n",
        "def create_data_batch(X, y=None, batch_size=64, valid_data=False, test_data=False):\n",
        "\n",
        "    if test_data:\n",
        "        print('Creating test dataset')   #Creating the test data \n",
        "        data = tf.data.Dataset.from_tensor_slices((tf.constant(X)))\n",
        "        data_batch = data.batch(batch_size)\n",
        "    elif valid_data:\n",
        "        print('Creating valid dataset')  #Creating the Validation Data\n",
        "        data = tf.data.Dataset.from_tensor_slices((tf.constant(X), tf.constant(y)))\n",
        "        data_batch = data.batch(batch_size)\n",
        "    else:\n",
        "        print('Creating Training dataset')  #Creating the Training Data \n",
        "        data = tf.data.Dataset.from_tensor_slices((tf.constant(X), tf.constant(y)))  #Slicing the dataset \n",
        "        data = data.shuffle(buffer_size=len(X))\n",
        "        data_batch = data.batch(batch_size)\n",
        "    return data_batch"
      ],
      "metadata": {
        "id": "YTaija4RR06U"
      },
      "execution_count": 9,
      "outputs": []
    },
    {
      "cell_type": "code",
      "source": [
        "images = []\n",
        "labels = []\n",
        "for i in range(len(df)):\n",
        "    row = df.iloc[i]\n",
        "    crop_img = crop_image(row.file_name, row.xmin, row.ymin, row.xmax, row.ymax)  #Cropping the image\n",
        "    resize_img = cv2.resize(crop_img, (100, 100))  #Resizing the image into a shape of (100,100)\n",
        "    resize_img = resize_img/ 255.0    #Rescaling the image \n",
        "    images.append(resize_img) \n",
        "    labels.append(row.label)\n",
        "len(images), len(labels)"
      ],
      "metadata": {
        "colab": {
          "base_uri": "https://localhost:8080/"
        },
        "id": "A9TXD-fjScSf",
        "outputId": "5c1ebd58-c6eb-4641-e6dd-f815b5072fed"
      },
      "execution_count": 10,
      "outputs": [
        {
          "output_type": "execute_result",
          "data": {
            "text/plain": [
              "(4072, 4072)"
            ]
          },
          "metadata": {},
          "execution_count": 10
        }
      ]
    },
    {
      "cell_type": "code",
      "source": [
        "#encoding the labels \n",
        "le = preprocessing.LabelEncoder()\n",
        "labels_encoder = le.fit_transform(labels)\n",
        "targets = np.array(labels_encoder)\n",
        "targets.shape"
      ],
      "metadata": {
        "colab": {
          "base_uri": "https://localhost:8080/"
        },
        "id": "NYGN0l-2TOO1",
        "outputId": "7290d3e4-4fab-40c5-f778-14e954111620"
      },
      "execution_count": 11,
      "outputs": [
        {
          "output_type": "execute_result",
          "data": {
            "text/plain": [
              "(4072,)"
            ]
          },
          "metadata": {},
          "execution_count": 11
        }
      ]
    },
    {
      "cell_type": "code",
      "source": [
        "#Splitting the data into TRAIN and test \n",
        "X_TRAIN, X_test, y_TRAIN, y_test = train_test_split(images, targets, test_size=0.1, random_state=42)\n",
        "len(X_TRAIN)"
      ],
      "metadata": {
        "colab": {
          "base_uri": "https://localhost:8080/"
        },
        "id": "Cr2UpRhETTB3",
        "outputId": "c125aeac-871b-4ab3-d4ae-0eca6f668afb"
      },
      "execution_count": 12,
      "outputs": [
        {
          "output_type": "execute_result",
          "data": {
            "text/plain": [
              "3664"
            ]
          },
          "metadata": {},
          "execution_count": 12
        }
      ]
    },
    {
      "cell_type": "code",
      "source": [
        "#Further splitting the TRAIN data data into train and validation dataset \n",
        "X_train, X_val, y_train, y_val = train_test_split(X_TRAIN, y_TRAIN, test_size=0.2, random_state=42)\n",
        "len(X_train), len(y_train), len(X_val), len(y_val)"
      ],
      "metadata": {
        "colab": {
          "base_uri": "https://localhost:8080/"
        },
        "id": "Lw7qCsVeToX-",
        "outputId": "be901163-f36c-41ac-826f-35bda1fa05cc"
      },
      "execution_count": 13,
      "outputs": [
        {
          "output_type": "execute_result",
          "data": {
            "text/plain": [
              "(2931, 2931, 733, 733)"
            ]
          },
          "metadata": {},
          "execution_count": 13
        }
      ]
    },
    {
      "cell_type": "code",
      "source": [
        "#Creating training data batches \n",
        "train_data = create_data_batch(X_train, y=y_train)\n",
        "train_data.element_spec\n"
      ],
      "metadata": {
        "colab": {
          "base_uri": "https://localhost:8080/"
        },
        "id": "U8oJgUu1Ulzv",
        "outputId": "43e68b47-0eb4-475e-cf62-2a5cc5c1974d"
      },
      "execution_count": 14,
      "outputs": [
        {
          "output_type": "stream",
          "name": "stdout",
          "text": [
            "Creating Training dataset\n"
          ]
        },
        {
          "output_type": "execute_result",
          "data": {
            "text/plain": [
              "(TensorSpec(shape=(None, 100, 100, 3), dtype=tf.float64, name=None),\n",
              " TensorSpec(shape=(None,), dtype=tf.int64, name=None))"
            ]
          },
          "metadata": {},
          "execution_count": 14
        }
      ]
    },
    {
      "cell_type": "code",
      "source": [
        "#Creating Validation Data batches\n",
        "val_data = create_data_batch(X_val, y=y_val, valid_data=True)\n",
        "val_data.element_spec"
      ],
      "metadata": {
        "colab": {
          "base_uri": "https://localhost:8080/"
        },
        "id": "7cKywN2oU0qR",
        "outputId": "92c7820a-8776-49f4-a6b8-d6ac87b0725f"
      },
      "execution_count": 15,
      "outputs": [
        {
          "output_type": "stream",
          "name": "stdout",
          "text": [
            "Creating valid dataset\n"
          ]
        },
        {
          "output_type": "execute_result",
          "data": {
            "text/plain": [
              "(TensorSpec(shape=(None, 100, 100, 3), dtype=tf.float64, name=None),\n",
              " TensorSpec(shape=(None,), dtype=tf.int64, name=None))"
            ]
          },
          "metadata": {},
          "execution_count": 15
        }
      ]
    },
    {
      "cell_type": "code",
      "source": [
        "#Creating Testing Data Batches\n",
        "test_data = create_data_batch(X_test, test_data=True)"
      ],
      "metadata": {
        "colab": {
          "base_uri": "https://localhost:8080/"
        },
        "id": "blnPT6DGVBix",
        "outputId": "72d488fd-4573-42c2-dcd2-65302d0e49e9"
      },
      "execution_count": 16,
      "outputs": [
        {
          "output_type": "stream",
          "name": "stdout",
          "text": [
            "Creating test dataset\n"
          ]
        }
      ]
    },
    {
      "cell_type": "code",
      "source": [
        "inputs = tf.keras.Input(shape=(100,100,3))\n",
        "x = Conv2D(64, (3, 3), activation='relu', padding='same')(inputs)\n",
        "print(x.shape)\n",
        "x = Conv2D(32, (3, 3), activation='relu', padding='same',)(x)\n",
        "x = MaxPooling2D(pool_size=(2, 2))(x)\n",
        "x = Dropout(0.2)(x)\n",
        "x = Conv2D(32, (3, 3), activation='relu', padding='same',)(x)\n",
        "x = MaxPooling2D(pool_size=(2, 2))(x)\n",
        "x = Dropout(0.2)(x)\n",
        "x = Conv2D(16, (3, 3), activation='relu', padding='same')(x)\n",
        "x = Flatten()(x)\n",
        "x = Dense(16,activation='relu')(x)\n",
        "output = Dense(3, activation='softmax')(x)\n",
        "model = Model(inputs, output)\n",
        "\n",
        "model.compile(optimizer='adam',\n",
        "              loss=tf.keras.losses.SparseCategoricalCrossentropy(),\n",
        "              metrics=['accuracy'])"
      ],
      "metadata": {
        "colab": {
          "base_uri": "https://localhost:8080/"
        },
        "id": "vAEplZWaVGq6",
        "outputId": "dc16fa57-c0a5-4307-a4a8-66fd2aabf03d"
      },
      "execution_count": 17,
      "outputs": [
        {
          "output_type": "stream",
          "name": "stdout",
          "text": [
            "(None, 100, 100, 64)\n"
          ]
        }
      ]
    },
    {
      "cell_type": "code",
      "source": [
        "model.summary()"
      ],
      "metadata": {
        "colab": {
          "base_uri": "https://localhost:8080/"
        },
        "id": "AXt20xXYV1us",
        "outputId": "b082d522-33d2-4572-fb3e-768061245570"
      },
      "execution_count": 18,
      "outputs": [
        {
          "output_type": "stream",
          "name": "stdout",
          "text": [
            "Model: \"model\"\n",
            "_________________________________________________________________\n",
            " Layer (type)                Output Shape              Param #   \n",
            "=================================================================\n",
            " input_1 (InputLayer)        [(None, 100, 100, 3)]     0         \n",
            "                                                                 \n",
            " conv2d (Conv2D)             (None, 100, 100, 64)      1792      \n",
            "                                                                 \n",
            " conv2d_1 (Conv2D)           (None, 100, 100, 32)      18464     \n",
            "                                                                 \n",
            " max_pooling2d (MaxPooling2D  (None, 50, 50, 32)       0         \n",
            " )                                                               \n",
            "                                                                 \n",
            " dropout (Dropout)           (None, 50, 50, 32)        0         \n",
            "                                                                 \n",
            " conv2d_2 (Conv2D)           (None, 50, 50, 32)        9248      \n",
            "                                                                 \n",
            " max_pooling2d_1 (MaxPooling  (None, 25, 25, 32)       0         \n",
            " 2D)                                                             \n",
            "                                                                 \n",
            " dropout_1 (Dropout)         (None, 25, 25, 32)        0         \n",
            "                                                                 \n",
            " conv2d_3 (Conv2D)           (None, 25, 25, 16)        4624      \n",
            "                                                                 \n",
            " flatten (Flatten)           (None, 10000)             0         \n",
            "                                                                 \n",
            " dense (Dense)               (None, 16)                160016    \n",
            "                                                                 \n",
            " dense_1 (Dense)             (None, 3)                 51        \n",
            "                                                                 \n",
            "=================================================================\n",
            "Total params: 194,195\n",
            "Trainable params: 194,195\n",
            "Non-trainable params: 0\n",
            "_________________________________________________________________\n"
          ]
        }
      ]
    },
    {
      "cell_type": "code",
      "source": [
        "EP = tf.keras.callbacks.EarlyStopping(\n",
        "    monitor='val_loss',\n",
        "    patience=5\n",
        ")\n",
        "MCP = tf.keras.callbacks.ModelCheckpoint(\n",
        "    filepath = './weights' ,\n",
        "    monitor='accuracy' , \n",
        "    save_best_only=True\n",
        ")"
      ],
      "metadata": {
        "id": "wzVBjo8MV4UJ"
      },
      "execution_count": 19,
      "outputs": []
    },
    {
      "cell_type": "code",
      "source": [
        "history_1 = model.fit(x=train_data, validation_data=val_data, epochs=10, callbacks=[EP,MCP])"
      ],
      "metadata": {
        "colab": {
          "base_uri": "https://localhost:8080/"
        },
        "id": "sT9riU8tWEvi",
        "outputId": "009dd3a2-ca33-4d8b-a1b1-85838917f9fd"
      },
      "execution_count": 20,
      "outputs": [
        {
          "output_type": "stream",
          "name": "stdout",
          "text": [
            "Epoch 1/10\n",
            "46/46 [==============================] - ETA: 0s - loss: 0.4982 - accuracy: 0.8110"
          ]
        },
        {
          "output_type": "stream",
          "name": "stderr",
          "text": [
            "WARNING:absl:Found untraced functions such as _jit_compiled_convolution_op, _jit_compiled_convolution_op, _jit_compiled_convolution_op, _jit_compiled_convolution_op while saving (showing 4 of 4). These functions will not be directly callable after loading.\n"
          ]
        },
        {
          "output_type": "stream",
          "name": "stdout",
          "text": [
            "\b\b\b\b\b\b\b\b\b\b\b\b\b\b\b\b\b\b\b\b\b\b\b\b\b\b\b\b\b\b\b\b\b\b\b\b\b\b\b\b\b\b\b\b\b\b\b\b\b\b\b\b\b\b\b\b\b\b\b\b\b\b\b\b\b\b\b\b\b\b\b\b\b\b\b\b\b\b\b\b\b\b\r46/46 [==============================] - 14s 103ms/step - loss: 0.4982 - accuracy: 0.8110 - val_loss: 0.2298 - val_accuracy: 0.9400\n",
            "Epoch 2/10\n",
            "45/46 [============================>.] - ETA: 0s - loss: 0.2453 - accuracy: 0.9292"
          ]
        },
        {
          "output_type": "stream",
          "name": "stderr",
          "text": [
            "WARNING:absl:Found untraced functions such as _jit_compiled_convolution_op, _jit_compiled_convolution_op, _jit_compiled_convolution_op, _jit_compiled_convolution_op while saving (showing 4 of 4). These functions will not be directly callable after loading.\n"
          ]
        },
        {
          "output_type": "stream",
          "name": "stdout",
          "text": [
            "\b\b\b\b\b\b\b\b\b\b\b\b\b\b\b\b\b\b\b\b\b\b\b\b\b\b\b\b\b\b\b\b\b\b\b\b\b\b\b\b\b\b\b\b\b\b\b\b\b\b\b\b\b\b\b\b\b\b\b\b\b\b\b\b\b\b\b\b\b\b\b\b\b\b\b\b\b\b\b\b\b\b\r46/46 [==============================] - 4s 82ms/step - loss: 0.2455 - accuracy: 0.9290 - val_loss: 0.1980 - val_accuracy: 0.9441\n",
            "Epoch 3/10\n",
            "45/46 [============================>.] - ETA: 0s - loss: 0.2056 - accuracy: 0.9326"
          ]
        },
        {
          "output_type": "stream",
          "name": "stderr",
          "text": [
            "WARNING:absl:Found untraced functions such as _jit_compiled_convolution_op, _jit_compiled_convolution_op, _jit_compiled_convolution_op, _jit_compiled_convolution_op while saving (showing 4 of 4). These functions will not be directly callable after loading.\n"
          ]
        },
        {
          "output_type": "stream",
          "name": "stdout",
          "text": [
            "\b\b\b\b\b\b\b\b\b\b\b\b\b\b\b\b\b\b\b\b\b\b\b\b\b\b\b\b\b\b\b\b\b\b\b\b\b\b\b\b\b\b\b\b\b\b\b\b\b\b\b\b\b\b\b\b\b\b\b\b\b\b\b\b\b\b\b\b\b\b\b\b\b\b\b\b\b\b\b\b\b\b\r46/46 [==============================] - 4s 79ms/step - loss: 0.2086 - accuracy: 0.9314 - val_loss: 0.1507 - val_accuracy: 0.9468\n",
            "Epoch 4/10\n",
            "45/46 [============================>.] - ETA: 0s - loss: 0.2051 - accuracy: 0.9358"
          ]
        },
        {
          "output_type": "stream",
          "name": "stderr",
          "text": [
            "WARNING:absl:Found untraced functions such as _jit_compiled_convolution_op, _jit_compiled_convolution_op, _jit_compiled_convolution_op, _jit_compiled_convolution_op while saving (showing 4 of 4). These functions will not be directly callable after loading.\n"
          ]
        },
        {
          "output_type": "stream",
          "name": "stdout",
          "text": [
            "\b\b\b\b\b\b\b\b\b\b\b\b\b\b\b\b\b\b\b\b\b\b\b\b\b\b\b\b\b\b\b\b\b\b\b\b\b\b\b\b\b\b\b\b\b\b\b\b\b\b\b\b\b\b\b\b\b\b\b\b\b\b\b\b\b\b\b\b\b\b\b\b\b\b\b\b\b\b\b\b\b\b\r46/46 [==============================] - 4s 80ms/step - loss: 0.2071 - accuracy: 0.9355 - val_loss: 0.1480 - val_accuracy: 0.9468\n",
            "Epoch 5/10\n",
            "45/46 [============================>.] - ETA: 0s - loss: 0.1939 - accuracy: 0.9375"
          ]
        },
        {
          "output_type": "stream",
          "name": "stderr",
          "text": [
            "WARNING:absl:Found untraced functions such as _jit_compiled_convolution_op, _jit_compiled_convolution_op, _jit_compiled_convolution_op, _jit_compiled_convolution_op while saving (showing 4 of 4). These functions will not be directly callable after loading.\n"
          ]
        },
        {
          "output_type": "stream",
          "name": "stdout",
          "text": [
            "\b\b\b\b\b\b\b\b\b\b\b\b\b\b\b\b\b\b\b\b\b\b\b\b\b\b\b\b\b\b\b\b\b\b\b\b\b\b\b\b\b\b\b\b\b\b\b\b\b\b\b\b\b\b\b\b\b\b\b\b\b\b\b\b\b\b\b\b\b\b\b\b\b\b\b\b\b\b\b\b\b\b\r46/46 [==============================] - 4s 78ms/step - loss: 0.1939 - accuracy: 0.9372 - val_loss: 0.1517 - val_accuracy: 0.9454\n",
            "Epoch 6/10\n",
            "46/46 [==============================] - 3s 56ms/step - loss: 0.1933 - accuracy: 0.9348 - val_loss: 0.1483 - val_accuracy: 0.9454\n",
            "Epoch 7/10\n",
            "45/46 [============================>.] - ETA: 0s - loss: 0.1758 - accuracy: 0.9403"
          ]
        },
        {
          "output_type": "stream",
          "name": "stderr",
          "text": [
            "WARNING:absl:Found untraced functions such as _jit_compiled_convolution_op, _jit_compiled_convolution_op, _jit_compiled_convolution_op, _jit_compiled_convolution_op while saving (showing 4 of 4). These functions will not be directly callable after loading.\n"
          ]
        },
        {
          "output_type": "stream",
          "name": "stdout",
          "text": [
            "\b\b\b\b\b\b\b\b\b\b\b\b\b\b\b\b\b\b\b\b\b\b\b\b\b\b\b\b\b\b\b\b\b\b\b\b\b\b\b\b\b\b\b\b\b\b\b\b\b\b\b\b\b\b\b\b\b\b\b\b\b\b\b\b\b\b\b\b\b\b\b\b\b\b\b\b\b\b\b\b\b\b\r46/46 [==============================] - 4s 82ms/step - loss: 0.1778 - accuracy: 0.9389 - val_loss: 0.1546 - val_accuracy: 0.9509\n",
            "Epoch 8/10\n",
            "45/46 [============================>.] - ETA: 0s - loss: 0.1606 - accuracy: 0.9438"
          ]
        },
        {
          "output_type": "stream",
          "name": "stderr",
          "text": [
            "WARNING:absl:Found untraced functions such as _jit_compiled_convolution_op, _jit_compiled_convolution_op, _jit_compiled_convolution_op, _jit_compiled_convolution_op while saving (showing 4 of 4). These functions will not be directly callable after loading.\n"
          ]
        },
        {
          "output_type": "stream",
          "name": "stdout",
          "text": [
            "\b\b\b\b\b\b\b\b\b\b\b\b\b\b\b\b\b\b\b\b\b\b\b\b\b\b\b\b\b\b\b\b\b\b\b\b\b\b\b\b\b\b\b\b\b\b\b\b\b\b\b\b\b\b\b\b\b\b\b\b\b\b\b\b\b\b\b\b\b\b\b\b\b\b\b\b\b\b\b\b\b\b\r46/46 [==============================] - 4s 78ms/step - loss: 0.1605 - accuracy: 0.9437 - val_loss: 0.1460 - val_accuracy: 0.9468\n",
            "Epoch 9/10\n",
            "46/46 [==============================] - 3s 58ms/step - loss: 0.1653 - accuracy: 0.9396 - val_loss: 0.1573 - val_accuracy: 0.9441\n",
            "Epoch 10/10\n",
            "46/46 [==============================] - 3s 58ms/step - loss: 0.1516 - accuracy: 0.9403 - val_loss: 0.1441 - val_accuracy: 0.9509\n"
          ]
        }
      ]
    },
    {
      "cell_type": "code",
      "source": [],
      "metadata": {
        "id": "Og4sWcEYWbVl"
      },
      "execution_count": null,
      "outputs": []
    }
  ]
}